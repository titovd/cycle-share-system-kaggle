{
 "cells": [
  {
   "cell_type": "code",
   "execution_count": 1,
   "metadata": {
    "ExecuteTime": {
     "end_time": "2020-05-09T14:16:39.236279Z",
     "start_time": "2020-05-09T14:16:29.299524Z"
    }
   },
   "outputs": [],
   "source": [
    "import numpy as np\n",
    "import pandas as pd\n",
    "\n",
    "\n",
    "from sklearn.linear_model import ElasticNet\n",
    "from sklearn.metrics import mean_squared_error\n",
    "from sklearn.model_selection import train_test_split\n",
    "from sklearn.model_selection import ShuffleSplit\n",
    "from sklearn.model_selection import GridSearchCV\n",
    "from sklearn.pipeline import Pipeline\n",
    "from sklearn.preprocessing import StandardScaler"
   ]
  },
  {
   "cell_type": "markdown",
   "metadata": {
    "ExecuteTime": {
     "end_time": "2020-05-09T12:46:36.019524Z",
     "start_time": "2020-05-09T12:46:36.001256Z"
    }
   },
   "source": [
    "**Формулировка на простом языке:** \n",
    "> Необходимо сделать предсказание количества совершаемых поездок в зависимости от погодных условий.\n",
    "\n",
    "**Формулировка на математическом языке:** \n",
    "> Ставится задача регрессии для количества совершаемых поездок в зависимости от погодных условй."
   ]
  },
  {
   "cell_type": "code",
   "execution_count": 2,
   "metadata": {
    "ExecuteTime": {
     "end_time": "2020-05-09T14:16:39.253729Z",
     "start_time": "2020-05-09T14:16:39.245276Z"
    }
   },
   "outputs": [],
   "source": [
    "DATA_DIR = \"../data/processed/\""
   ]
  },
  {
   "cell_type": "code",
   "execution_count": 3,
   "metadata": {
    "ExecuteTime": {
     "end_time": "2020-05-09T14:16:39.344210Z",
     "start_time": "2020-05-09T14:16:39.262018Z"
    },
    "code_folding": [
     0
    ]
   },
   "outputs": [],
   "source": [
    "def get_data(DATA_DIR):\n",
    "    trips = pd.read_csv(DATA_DIR+\"trips.csv\", \n",
    "                    error_bad_lines=False, \n",
    "                    index_col=0)\n",
    "    weather = pd.read_csv(DATA_DIR+\"weather.csv\")\n",
    "    trips['starttime'] = pd.to_datetime(trips['starttime'])\n",
    "    trips['stoptime'] = pd.to_datetime(trips['stoptime'])\n",
    "    trips['Date'] = pd.to_datetime(trips['starttime'].dt.date)\n",
    "    weather['Date']= pd.to_datetime(weather['Date'])\n",
    "    \n",
    "    num_trips_per_day = trips.groupby('Date').size().reset_index().rename(columns={0:'trips_counter'})\n",
    "    data = num_trips_per_day.merge(weather, on='Date')\n",
    "    \n",
    "    data.Events = data.Events.fillna('Nothing')\n",
    "    data = data.drop('Date', axis=1)\n",
    "    data = data.drop('Max_Gust_Speed_MPH', axis=1) # много пропущенных значений\n",
    "    for col in data.columns[1:]:\n",
    "        data[col] = data[col].fillna(0)\n",
    "    return data"
   ]
  },
  {
   "cell_type": "markdown",
   "metadata": {
    "ExecuteTime": {
     "end_time": "2020-05-09T13:06:42.544348Z",
     "start_time": "2020-05-09T13:06:42.537565Z"
    }
   },
   "source": [
    "Выберем RMSE в качестве метрики(имеет ту же размерность, что и исходные данные, в отличие от MSE)."
   ]
  },
  {
   "cell_type": "code",
   "execution_count": 4,
   "metadata": {
    "ExecuteTime": {
     "end_time": "2020-05-09T14:16:39.553941Z",
     "start_time": "2020-05-09T14:16:39.346800Z"
    }
   },
   "outputs": [],
   "source": [
    "def root_mean_squared_error(y_true, y_pred):\n",
    "    return np.sqrt(mean_squared_error(y_true, y_pred))"
   ]
  },
  {
   "cell_type": "code",
   "execution_count": 5,
   "metadata": {
    "ExecuteTime": {
     "end_time": "2020-05-09T14:17:27.924833Z",
     "start_time": "2020-05-09T14:16:39.563734Z"
    }
   },
   "outputs": [
    {
     "data": {
      "text/html": [
       "<div>\n",
       "<style scoped>\n",
       "    .dataframe tbody tr th:only-of-type {\n",
       "        vertical-align: middle;\n",
       "    }\n",
       "\n",
       "    .dataframe tbody tr th {\n",
       "        vertical-align: top;\n",
       "    }\n",
       "\n",
       "    .dataframe thead th {\n",
       "        text-align: right;\n",
       "    }\n",
       "</style>\n",
       "<table border=\"1\" class=\"dataframe\">\n",
       "  <thead>\n",
       "    <tr style=\"text-align: right;\">\n",
       "      <th></th>\n",
       "      <th>trips_counter</th>\n",
       "      <th>Max_Temperature_F</th>\n",
       "      <th>Mean_Temperature_F</th>\n",
       "      <th>Min_TemperatureF</th>\n",
       "      <th>Max_Dew_Point_F</th>\n",
       "      <th>MeanDew_Point_F</th>\n",
       "      <th>Min_Dewpoint_F</th>\n",
       "      <th>Max_Humidity</th>\n",
       "      <th>Mean_Humidity</th>\n",
       "      <th>Min_Humidity</th>\n",
       "      <th>Max_Sea_Level_Pressure_In</th>\n",
       "      <th>Mean_Sea_Level_Pressure_In</th>\n",
       "      <th>Min_Sea_Level_Pressure_In</th>\n",
       "      <th>Max_Visibility_Miles</th>\n",
       "      <th>Mean_Visibility_Miles</th>\n",
       "      <th>Min_Visibility_Miles</th>\n",
       "      <th>Max_Wind_Speed_MPH</th>\n",
       "      <th>Mean_Wind_Speed_MPH</th>\n",
       "      <th>Precipitation_In</th>\n",
       "      <th>Events</th>\n",
       "    </tr>\n",
       "  </thead>\n",
       "  <tbody>\n",
       "    <tr>\n",
       "      <th>0</th>\n",
       "      <td>409</td>\n",
       "      <td>71</td>\n",
       "      <td>62.0</td>\n",
       "      <td>54</td>\n",
       "      <td>55</td>\n",
       "      <td>51</td>\n",
       "      <td>46</td>\n",
       "      <td>87</td>\n",
       "      <td>68</td>\n",
       "      <td>46</td>\n",
       "      <td>30.03</td>\n",
       "      <td>29.79</td>\n",
       "      <td>29.65</td>\n",
       "      <td>10</td>\n",
       "      <td>10</td>\n",
       "      <td>4</td>\n",
       "      <td>13</td>\n",
       "      <td>4</td>\n",
       "      <td>0.00</td>\n",
       "      <td>Rain</td>\n",
       "    </tr>\n",
       "    <tr>\n",
       "      <th>1</th>\n",
       "      <td>491</td>\n",
       "      <td>63</td>\n",
       "      <td>59.0</td>\n",
       "      <td>55</td>\n",
       "      <td>52</td>\n",
       "      <td>51</td>\n",
       "      <td>50</td>\n",
       "      <td>88</td>\n",
       "      <td>78</td>\n",
       "      <td>63</td>\n",
       "      <td>29.84</td>\n",
       "      <td>29.75</td>\n",
       "      <td>29.54</td>\n",
       "      <td>10</td>\n",
       "      <td>9</td>\n",
       "      <td>3</td>\n",
       "      <td>10</td>\n",
       "      <td>5</td>\n",
       "      <td>0.11</td>\n",
       "      <td>Rain</td>\n",
       "    </tr>\n",
       "    <tr>\n",
       "      <th>2</th>\n",
       "      <td>313</td>\n",
       "      <td>62</td>\n",
       "      <td>58.0</td>\n",
       "      <td>54</td>\n",
       "      <td>53</td>\n",
       "      <td>50</td>\n",
       "      <td>46</td>\n",
       "      <td>87</td>\n",
       "      <td>77</td>\n",
       "      <td>67</td>\n",
       "      <td>29.98</td>\n",
       "      <td>29.71</td>\n",
       "      <td>29.51</td>\n",
       "      <td>10</td>\n",
       "      <td>9</td>\n",
       "      <td>3</td>\n",
       "      <td>18</td>\n",
       "      <td>7</td>\n",
       "      <td>0.45</td>\n",
       "      <td>Rain</td>\n",
       "    </tr>\n",
       "    <tr>\n",
       "      <th>3</th>\n",
       "      <td>395</td>\n",
       "      <td>71</td>\n",
       "      <td>61.0</td>\n",
       "      <td>52</td>\n",
       "      <td>49</td>\n",
       "      <td>46</td>\n",
       "      <td>42</td>\n",
       "      <td>83</td>\n",
       "      <td>61</td>\n",
       "      <td>36</td>\n",
       "      <td>30.03</td>\n",
       "      <td>29.95</td>\n",
       "      <td>29.81</td>\n",
       "      <td>10</td>\n",
       "      <td>10</td>\n",
       "      <td>10</td>\n",
       "      <td>9</td>\n",
       "      <td>4</td>\n",
       "      <td>0.00</td>\n",
       "      <td>Rain</td>\n",
       "    </tr>\n",
       "    <tr>\n",
       "      <th>4</th>\n",
       "      <td>294</td>\n",
       "      <td>64</td>\n",
       "      <td>60.0</td>\n",
       "      <td>57</td>\n",
       "      <td>55</td>\n",
       "      <td>51</td>\n",
       "      <td>41</td>\n",
       "      <td>87</td>\n",
       "      <td>72</td>\n",
       "      <td>46</td>\n",
       "      <td>29.83</td>\n",
       "      <td>29.78</td>\n",
       "      <td>29.73</td>\n",
       "      <td>10</td>\n",
       "      <td>10</td>\n",
       "      <td>6</td>\n",
       "      <td>8</td>\n",
       "      <td>3</td>\n",
       "      <td>0.14</td>\n",
       "      <td>Rain</td>\n",
       "    </tr>\n",
       "  </tbody>\n",
       "</table>\n",
       "</div>"
      ],
      "text/plain": [
       "   trips_counter  Max_Temperature_F  Mean_Temperature_F  Min_TemperatureF  \\\n",
       "0            409                 71                62.0                54   \n",
       "1            491                 63                59.0                55   \n",
       "2            313                 62                58.0                54   \n",
       "3            395                 71                61.0                52   \n",
       "4            294                 64                60.0                57   \n",
       "\n",
       "   Max_Dew_Point_F  MeanDew_Point_F  Min_Dewpoint_F  Max_Humidity  \\\n",
       "0               55               51              46            87   \n",
       "1               52               51              50            88   \n",
       "2               53               50              46            87   \n",
       "3               49               46              42            83   \n",
       "4               55               51              41            87   \n",
       "\n",
       "   Mean_Humidity  Min_Humidity  Max_Sea_Level_Pressure_In  \\\n",
       "0             68            46                      30.03   \n",
       "1             78            63                      29.84   \n",
       "2             77            67                      29.98   \n",
       "3             61            36                      30.03   \n",
       "4             72            46                      29.83   \n",
       "\n",
       "   Mean_Sea_Level_Pressure_In  Min_Sea_Level_Pressure_In  \\\n",
       "0                       29.79                      29.65   \n",
       "1                       29.75                      29.54   \n",
       "2                       29.71                      29.51   \n",
       "3                       29.95                      29.81   \n",
       "4                       29.78                      29.73   \n",
       "\n",
       "   Max_Visibility_Miles  Mean_Visibility_Miles  Min_Visibility_Miles  \\\n",
       "0                    10                     10                     4   \n",
       "1                    10                      9                     3   \n",
       "2                    10                      9                     3   \n",
       "3                    10                     10                    10   \n",
       "4                    10                     10                     6   \n",
       "\n",
       "   Max_Wind_Speed_MPH  Mean_Wind_Speed_MPH  Precipitation_In Events  \n",
       "0                  13                    4              0.00   Rain  \n",
       "1                  10                    5              0.11   Rain  \n",
       "2                  18                    7              0.45   Rain  \n",
       "3                   9                    4              0.00   Rain  \n",
       "4                   8                    3              0.14   Rain  "
      ]
     },
     "execution_count": 5,
     "metadata": {},
     "output_type": "execute_result"
    }
   ],
   "source": [
    "data = get_data(DATA_DIR)\n",
    "data.head(5)"
   ]
  },
  {
   "cell_type": "code",
   "execution_count": 6,
   "metadata": {
    "ExecuteTime": {
     "end_time": "2020-05-09T14:17:28.863547Z",
     "start_time": "2020-05-09T14:17:27.928064Z"
    }
   },
   "outputs": [],
   "source": [
    "data = pd.concat((data.iloc[:, :-1], pd.get_dummies(data.iloc[:, -1])),axis=1)"
   ]
  },
  {
   "cell_type": "markdown",
   "metadata": {
    "ExecuteTime": {
     "end_time": "2020-05-09T12:52:09.262130Z",
     "start_time": "2020-05-09T12:52:09.235004Z"
    }
   },
   "source": [
    "Попробуем применить линейную регресиию, но не простую, а Elastic Net."
   ]
  },
  {
   "cell_type": "code",
   "execution_count": 7,
   "metadata": {
    "ExecuteTime": {
     "end_time": "2020-05-09T14:17:29.424588Z",
     "start_time": "2020-05-09T14:17:28.866447Z"
    }
   },
   "outputs": [],
   "source": [
    "X_train, X_test, y_train, y_test = train_test_split(data.iloc[:, 1:], \n",
    "                                                    data.iloc[:, 0], \n",
    "                                                    test_size=0.2, \n",
    "                                                    random_state=44)"
   ]
  },
  {
   "cell_type": "markdown",
   "metadata": {},
   "source": [
    "Посмотрим на размер тренировочной/тестовой выборки."
   ]
  },
  {
   "cell_type": "code",
   "execution_count": 8,
   "metadata": {
    "ExecuteTime": {
     "end_time": "2020-05-09T14:17:29.907842Z",
     "start_time": "2020-05-09T14:17:29.428997Z"
    }
   },
   "outputs": [
    {
     "data": {
      "text/plain": [
       "((551, 28), (138, 28))"
      ]
     },
     "execution_count": 8,
     "metadata": {},
     "output_type": "execute_result"
    }
   ],
   "source": [
    "X_train.shape, X_test.shape"
   ]
  },
  {
   "cell_type": "code",
   "execution_count": 9,
   "metadata": {
    "ExecuteTime": {
     "end_time": "2020-05-09T14:17:30.091966Z",
     "start_time": "2020-05-09T14:17:29.910877Z"
    }
   },
   "outputs": [],
   "source": [
    "model = ElasticNet(max_iter=5000)\n",
    "steps = [('scaler', StandardScaler()), ('model', model)] \n",
    "pipeline = Pipeline(steps)"
   ]
  },
  {
   "cell_type": "code",
   "execution_count": 10,
   "metadata": {
    "ExecuteTime": {
     "end_time": "2020-05-09T14:17:30.217099Z",
     "start_time": "2020-05-09T14:17:30.094348Z"
    }
   },
   "outputs": [],
   "source": [
    "parameters_grid_elastic = {\n",
    "    'model__alpha' : np.linspace(0.00001, 2, num=100),\n",
    "    'model__l1_ratio' : np.linspace(0, 1, num=50)\n",
    "}"
   ]
  },
  {
   "cell_type": "code",
   "execution_count": 11,
   "metadata": {
    "ExecuteTime": {
     "end_time": "2020-05-09T14:17:30.299390Z",
     "start_time": "2020-05-09T14:17:30.219766Z"
    }
   },
   "outputs": [],
   "source": [
    "ss = ShuffleSplit(n_splits=5, test_size=0.25, random_state=44)"
   ]
  },
  {
   "cell_type": "code",
   "execution_count": 12,
   "metadata": {
    "ExecuteTime": {
     "end_time": "2020-05-09T14:17:30.437598Z",
     "start_time": "2020-05-09T14:17:30.302263Z"
    }
   },
   "outputs": [],
   "source": [
    "gs = GridSearchCV(estimator=pipeline, \n",
    "                  param_grid=parameters_grid_elastic, \n",
    "                  scoring='neg_mean_squared_error', \n",
    "                  cv=ss, \n",
    "                  n_jobs=-1,\n",
    "                  verbose=2)"
   ]
  },
  {
   "cell_type": "code",
   "execution_count": 13,
   "metadata": {
    "ExecuteTime": {
     "end_time": "2020-05-09T14:20:00.780544Z",
     "start_time": "2020-05-09T14:17:30.440311Z"
    }
   },
   "outputs": [
    {
     "name": "stdout",
     "output_type": "stream",
     "text": [
      "Fitting 5 folds for each of 5000 candidates, totalling 25000 fits\n"
     ]
    },
    {
     "name": "stderr",
     "output_type": "stream",
     "text": [
      "[Parallel(n_jobs=-1)]: Using backend LokyBackend with 4 concurrent workers.\n",
      "[Parallel(n_jobs=-1)]: Done  33 tasks      | elapsed:   17.1s\n",
      "[Parallel(n_jobs=-1)]: Done 154 tasks      | elapsed:   21.7s\n",
      "[Parallel(n_jobs=-1)]: Done 1556 tasks      | elapsed:   32.0s\n",
      "[Parallel(n_jobs=-1)]: Done 6084 tasks      | elapsed:   53.4s\n",
      "[Parallel(n_jobs=-1)]: Done 11924 tasks      | elapsed:  1.4min\n",
      "[Parallel(n_jobs=-1)]: Done 19044 tasks      | elapsed:  2.1min\n",
      "[Parallel(n_jobs=-1)]: Done 25000 out of 25000 | elapsed:  2.5min finished\n"
     ]
    },
    {
     "data": {
      "text/plain": [
       "GridSearchCV(cv=ShuffleSplit(n_splits=5, random_state=44, test_size=0.25, train_size=None),\n",
       "             error_score=nan,\n",
       "             estimator=Pipeline(memory=None,\n",
       "                                steps=[('scaler',\n",
       "                                        StandardScaler(copy=True,\n",
       "                                                       with_mean=True,\n",
       "                                                       with_std=True)),\n",
       "                                       ('model',\n",
       "                                        ElasticNet(alpha=1.0, copy_X=True,\n",
       "                                                   fit_intercept=True,\n",
       "                                                   l1_ratio=0.5, max_iter=5000,\n",
       "                                                   normalize=False,\n",
       "                                                   positive=False,\n",
       "                                                   precompute=False,\n",
       "                                                   random...\n",
       "       0.51020408, 0.53061224, 0.55102041, 0.57142857, 0.59183673,\n",
       "       0.6122449 , 0.63265306, 0.65306122, 0.67346939, 0.69387755,\n",
       "       0.71428571, 0.73469388, 0.75510204, 0.7755102 , 0.79591837,\n",
       "       0.81632653, 0.83673469, 0.85714286, 0.87755102, 0.89795918,\n",
       "       0.91836735, 0.93877551, 0.95918367, 0.97959184, 1.        ])},\n",
       "             pre_dispatch='2*n_jobs', refit=True, return_train_score=False,\n",
       "             scoring='neg_mean_squared_error', verbose=2)"
      ]
     },
     "execution_count": 13,
     "metadata": {},
     "output_type": "execute_result"
    }
   ],
   "source": [
    "gs.fit(X_train, y_train)"
   ]
  },
  {
   "cell_type": "code",
   "execution_count": 14,
   "metadata": {
    "ExecuteTime": {
     "end_time": "2020-05-09T14:20:01.113450Z",
     "start_time": "2020-05-09T14:20:00.867747Z"
    }
   },
   "outputs": [
    {
     "data": {
      "text/plain": [
       "75.65636238907558"
      ]
     },
     "execution_count": 14,
     "metadata": {},
     "output_type": "execute_result"
    }
   ],
   "source": [
    "root_mean_squared_error(y_test, gs.best_estimator_.predict(X_test))"
   ]
  },
  {
   "cell_type": "markdown",
   "metadata": {
    "ExecuteTime": {
     "end_time": "2020-05-09T12:52:30.784529Z",
     "start_time": "2020-05-09T12:52:19.400Z"
    }
   },
   "source": [
    "Получили результат близкий к тем, что мы получали у CatBoost/RandomForest, но все таки хуже, хотя мы и применял подбор параметров."
   ]
  }
 ],
 "metadata": {
  "kernelspec": {
   "display_name": "Python 3",
   "language": "python",
   "name": "python3"
  },
  "language_info": {
   "codemirror_mode": {
    "name": "ipython",
    "version": 3
   },
   "file_extension": ".py",
   "mimetype": "text/x-python",
   "name": "python",
   "nbconvert_exporter": "python",
   "pygments_lexer": "ipython3",
   "version": "3.7.6"
  },
  "varInspector": {
   "cols": {
    "lenName": 16,
    "lenType": 16,
    "lenVar": 40
   },
   "kernels_config": {
    "python": {
     "delete_cmd_postfix": "",
     "delete_cmd_prefix": "del ",
     "library": "var_list.py",
     "varRefreshCmd": "print(var_dic_list())"
    },
    "r": {
     "delete_cmd_postfix": ") ",
     "delete_cmd_prefix": "rm(",
     "library": "var_list.r",
     "varRefreshCmd": "cat(var_dic_list()) "
    }
   },
   "types_to_exclude": [
    "module",
    "function",
    "builtin_function_or_method",
    "instance",
    "_Feature"
   ],
   "window_display": false
  }
 },
 "nbformat": 4,
 "nbformat_minor": 2
}
