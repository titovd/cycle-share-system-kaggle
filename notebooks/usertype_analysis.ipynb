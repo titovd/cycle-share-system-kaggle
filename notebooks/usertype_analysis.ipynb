{
 "cells": [
  {
   "cell_type": "code",
   "execution_count": 2,
   "metadata": {
    "ExecuteTime": {
     "end_time": "2020-05-22T10:19:40.719795Z",
     "start_time": "2020-05-22T10:19:34.762910Z"
    }
   },
   "outputs": [],
   "source": [
    "import matplotlib.pyplot as plt\n",
    "import numpy as np\n",
    "import pandas as pd\n",
    "import plotly.express as px\n",
    "import scipy.stats as sps\n",
    "import seaborn as sns\n",
    "\n",
    "\n",
    "sns.set(font_scale=1.5)\n",
    "%matplotlib inline"
   ]
  },
  {
   "cell_type": "markdown",
   "metadata": {},
   "source": [
    "**Формулировка задачи на простом ”пользовательском” языке:**\\\n",
    "> Мы займемся анализом поездок пользователей в зависимости от типа абономента/подписки. Как используют велопрокат пользователи типа `Member` и `Short-Term Pass Holder`.\\\n",
    "\n",
    "**Формулировка задачи на математическом языке:**\\\n",
    "> Выяснить, как тип пользователя влияет на продолжительность поездки. Узнать, есть ли различие между средним значением продолжительности поездки для подписки типа `Member` и `Short-Term Pass Holder`. "
   ]
  },
  {
   "cell_type": "markdown",
   "metadata": {},
   "source": [
    "Загрузим чуть-чуть обработанные данные, где удалены дубликаты первых 50000 поездок в таблице trips.csv."
   ]
  },
  {
   "cell_type": "code",
   "execution_count": 3,
   "metadata": {
    "ExecuteTime": {
     "end_time": "2020-05-22T10:19:40.769628Z",
     "start_time": "2020-05-22T10:19:40.760945Z"
    }
   },
   "outputs": [],
   "source": [
    "DATA_DIR = '../data/processed/'"
   ]
  },
  {
   "cell_type": "code",
   "execution_count": 4,
   "metadata": {
    "ExecuteTime": {
     "end_time": "2020-05-22T10:19:43.227891Z",
     "start_time": "2020-05-22T10:19:40.810913Z"
    }
   },
   "outputs": [],
   "source": [
    "stations_data = pd.read_csv(DATA_DIR+\"station.csv\")\n",
    "trips = pd.read_csv(DATA_DIR+\"trips.csv\", error_bad_lines=False, index_col=0)\n",
    "weather = pd.read_csv(DATA_DIR+\"weather.csv\")"
   ]
  },
  {
   "cell_type": "code",
   "execution_count": 5,
   "metadata": {
    "ExecuteTime": {
     "end_time": "2020-05-22T10:19:43.755542Z",
     "start_time": "2020-05-22T10:19:43.654355Z"
    }
   },
   "outputs": [
    {
     "data": {
      "text/html": [
       "<div>\n",
       "<style scoped>\n",
       "    .dataframe tbody tr th:only-of-type {\n",
       "        vertical-align: middle;\n",
       "    }\n",
       "\n",
       "    .dataframe tbody tr th {\n",
       "        vertical-align: top;\n",
       "    }\n",
       "\n",
       "    .dataframe thead th {\n",
       "        text-align: right;\n",
       "    }\n",
       "</style>\n",
       "<table border=\"1\" class=\"dataframe\">\n",
       "  <thead>\n",
       "    <tr style=\"text-align: right;\">\n",
       "      <th></th>\n",
       "      <th>trip_id</th>\n",
       "      <th>starttime</th>\n",
       "      <th>stoptime</th>\n",
       "      <th>bikeid</th>\n",
       "      <th>tripduration</th>\n",
       "      <th>from_station_name</th>\n",
       "      <th>to_station_name</th>\n",
       "      <th>from_station_id</th>\n",
       "      <th>to_station_id</th>\n",
       "      <th>usertype</th>\n",
       "      <th>gender</th>\n",
       "      <th>birthyear</th>\n",
       "    </tr>\n",
       "  </thead>\n",
       "  <tbody>\n",
       "    <tr>\n",
       "      <th>0</th>\n",
       "      <td>431</td>\n",
       "      <td>10/13/2014 10:31</td>\n",
       "      <td>10/13/2014 10:48</td>\n",
       "      <td>SEA00298</td>\n",
       "      <td>985.935</td>\n",
       "      <td>2nd Ave &amp; Spring St</td>\n",
       "      <td>Occidental Park / Occidental Ave S &amp; S Washing...</td>\n",
       "      <td>CBD-06</td>\n",
       "      <td>PS-04</td>\n",
       "      <td>Member</td>\n",
       "      <td>Male</td>\n",
       "      <td>1960.0</td>\n",
       "    </tr>\n",
       "    <tr>\n",
       "      <th>1</th>\n",
       "      <td>432</td>\n",
       "      <td>10/13/2014 10:32</td>\n",
       "      <td>10/13/2014 10:48</td>\n",
       "      <td>SEA00195</td>\n",
       "      <td>926.375</td>\n",
       "      <td>2nd Ave &amp; Spring St</td>\n",
       "      <td>Occidental Park / Occidental Ave S &amp; S Washing...</td>\n",
       "      <td>CBD-06</td>\n",
       "      <td>PS-04</td>\n",
       "      <td>Member</td>\n",
       "      <td>Male</td>\n",
       "      <td>1970.0</td>\n",
       "    </tr>\n",
       "    <tr>\n",
       "      <th>2</th>\n",
       "      <td>433</td>\n",
       "      <td>10/13/2014 10:33</td>\n",
       "      <td>10/13/2014 10:48</td>\n",
       "      <td>SEA00486</td>\n",
       "      <td>883.831</td>\n",
       "      <td>2nd Ave &amp; Spring St</td>\n",
       "      <td>Occidental Park / Occidental Ave S &amp; S Washing...</td>\n",
       "      <td>CBD-06</td>\n",
       "      <td>PS-04</td>\n",
       "      <td>Member</td>\n",
       "      <td>Female</td>\n",
       "      <td>1988.0</td>\n",
       "    </tr>\n",
       "  </tbody>\n",
       "</table>\n",
       "</div>"
      ],
      "text/plain": [
       "   trip_id         starttime          stoptime    bikeid  tripduration  \\\n",
       "0      431  10/13/2014 10:31  10/13/2014 10:48  SEA00298       985.935   \n",
       "1      432  10/13/2014 10:32  10/13/2014 10:48  SEA00195       926.375   \n",
       "2      433  10/13/2014 10:33  10/13/2014 10:48  SEA00486       883.831   \n",
       "\n",
       "     from_station_name                                    to_station_name  \\\n",
       "0  2nd Ave & Spring St  Occidental Park / Occidental Ave S & S Washing...   \n",
       "1  2nd Ave & Spring St  Occidental Park / Occidental Ave S & S Washing...   \n",
       "2  2nd Ave & Spring St  Occidental Park / Occidental Ave S & S Washing...   \n",
       "\n",
       "  from_station_id to_station_id usertype  gender  birthyear  \n",
       "0          CBD-06         PS-04   Member    Male     1960.0  \n",
       "1          CBD-06         PS-04   Member    Male     1970.0  \n",
       "2          CBD-06         PS-04   Member  Female     1988.0  "
      ]
     },
     "execution_count": 5,
     "metadata": {},
     "output_type": "execute_result"
    }
   ],
   "source": [
    "trips.head(3)"
   ]
  },
  {
   "cell_type": "markdown",
   "metadata": {},
   "source": [
    "Возможны два типа подписки."
   ]
  },
  {
   "cell_type": "code",
   "execution_count": 6,
   "metadata": {
    "ExecuteTime": {
     "end_time": "2020-05-22T10:19:44.215003Z",
     "start_time": "2020-05-22T10:19:44.138340Z"
    }
   },
   "outputs": [
    {
     "data": {
      "text/plain": [
       "array(['Member', 'Short-Term Pass Holder'], dtype=object)"
      ]
     },
     "execution_count": 6,
     "metadata": {},
     "output_type": "execute_result"
    }
   ],
   "source": [
    "trips.usertype.unique()"
   ]
  },
  {
   "cell_type": "code",
   "execution_count": 7,
   "metadata": {
    "ExecuteTime": {
     "end_time": "2020-05-22T10:19:46.940589Z",
     "start_time": "2020-05-22T10:19:44.551698Z"
    }
   },
   "outputs": [
    {
     "data": {
      "image/png": "[encoded data removed]",
      "text/plain": [
       "<Figure size 720x360 with 1 Axes>"
      ]
     },
     "metadata": {
      "needs_background": "light"
     },
     "output_type": "display_data"
    }
   ],
   "source": [
    "plt.figure(figsize=(10, 5))\n",
    "plt.title('Распределение продолжительности поездки в зависимости от типа абонемента')\n",
    "plt.hist(trips[trips['usertype'] == 'Member'].tripduration, \n",
    "         bins=50, range=(0, 1700), \n",
    "         label='Member')\n",
    "plt.hist(trips[trips['usertype'] == 'Short-Term Pass Holder'].tripduration, \n",
    "         bins=50, range=(0, 1700), \n",
    "         label='Short-Term Pass Holder', alpha=0.7)\n",
    "plt.legend()\n",
    "plt.show()"
   ]
  },
  {
   "cell_type": "markdown",
   "metadata": {},
   "source": [
    "Псмотрим на статистики для `tripdaration` для разных типов"
   ]
  },
  {
   "cell_type": "code",
   "execution_count": 8,
   "metadata": {
    "ExecuteTime": {
     "end_time": "2020-05-22T10:19:47.769609Z",
     "start_time": "2020-05-22T10:19:47.283188Z"
    }
   },
   "outputs": [
    {
     "data": {
      "text/html": [
       "<div>\n",
       "<style scoped>\n",
       "    .dataframe tbody tr th:only-of-type {\n",
       "        vertical-align: middle;\n",
       "    }\n",
       "\n",
       "    .dataframe tbody tr th {\n",
       "        vertical-align: top;\n",
       "    }\n",
       "\n",
       "    .dataframe thead tr th {\n",
       "        text-align: left;\n",
       "    }\n",
       "\n",
       "    .dataframe thead tr:last-of-type th {\n",
       "        text-align: right;\n",
       "    }\n",
       "</style>\n",
       "<table border=\"1\" class=\"dataframe\">\n",
       "  <thead>\n",
       "    <tr>\n",
       "      <th></th>\n",
       "      <th colspan=\"8\" halign=\"left\">tripduration</th>\n",
       "    </tr>\n",
       "    <tr>\n",
       "      <th></th>\n",
       "      <th>count</th>\n",
       "      <th>mean</th>\n",
       "      <th>std</th>\n",
       "      <th>min</th>\n",
       "      <th>25%</th>\n",
       "      <th>50%</th>\n",
       "      <th>75%</th>\n",
       "      <th>max</th>\n",
       "    </tr>\n",
       "    <tr>\n",
       "      <th>usertype</th>\n",
       "      <th></th>\n",
       "      <th></th>\n",
       "      <th></th>\n",
       "      <th></th>\n",
       "      <th></th>\n",
       "      <th></th>\n",
       "      <th></th>\n",
       "      <th></th>\n",
       "    </tr>\n",
       "  </thead>\n",
       "  <tbody>\n",
       "    <tr>\n",
       "      <th>Member</th>\n",
       "      <td>146171.0</td>\n",
       "      <td>592.977313</td>\n",
       "      <td>731.550556</td>\n",
       "      <td>60.008</td>\n",
       "      <td>324.2025</td>\n",
       "      <td>479.1490</td>\n",
       "      <td>693.39150</td>\n",
       "      <td>27985.884</td>\n",
       "    </tr>\n",
       "    <tr>\n",
       "      <th>Short-Term Pass Holder</th>\n",
       "      <td>89894.0</td>\n",
       "      <td>2193.901312</td>\n",
       "      <td>2959.113053</td>\n",
       "      <td>60.111</td>\n",
       "      <td>760.0590</td>\n",
       "      <td>1251.4325</td>\n",
       "      <td>2161.54875</td>\n",
       "      <td>28794.398</td>\n",
       "    </tr>\n",
       "  </tbody>\n",
       "</table>\n",
       "</div>"
      ],
      "text/plain": [
       "                       tripduration                                    \\\n",
       "                              count         mean          std     min   \n",
       "usertype                                                                \n",
       "Member                     146171.0   592.977313   731.550556  60.008   \n",
       "Short-Term Pass Holder      89894.0  2193.901312  2959.113053  60.111   \n",
       "\n",
       "                                                                    \n",
       "                             25%        50%         75%        max  \n",
       "usertype                                                            \n",
       "Member                  324.2025   479.1490   693.39150  27985.884  \n",
       "Short-Term Pass Holder  760.0590  1251.4325  2161.54875  28794.398  "
      ]
     },
     "execution_count": 8,
     "metadata": {},
     "output_type": "execute_result"
    }
   ],
   "source": [
    "trips.drop(['trip_id', 'birthyear'], axis=1).groupby(by=['usertype']).describe()"
   ]
  },
  {
   "cell_type": "markdown",
   "metadata": {
    "ExecuteTime": {
     "end_time": "2020-04-26T20:16:33.697966Z",
     "start_time": "2020-04-26T20:16:33.583769Z"
    }
   },
   "source": [
    "Можем проверить критерием Уилкоксона-Манна-Уитни гипотезу об однородности."
   ]
  },
  {
   "cell_type": "code",
   "execution_count": 9,
   "metadata": {
    "ExecuteTime": {
     "end_time": "2020-05-22T10:19:48.537139Z",
     "start_time": "2020-05-22T10:19:48.100099Z"
    }
   },
   "outputs": [
    {
     "data": {
      "text/plain": [
       "MannwhitneyuResult(statistic=2077197774.5, pvalue=0.0)"
      ]
     },
     "execution_count": 9,
     "metadata": {},
     "output_type": "execute_result"
    }
   ],
   "source": [
    "sps.mannwhitneyu(trips[trips['usertype'] == 'Member'].tripduration, \n",
    "                 trips[trips['usertype'] == 'Short-Term Pass Holder'].tripduration)"
   ]
  },
  {
   "cell_type": "markdown",
   "metadata": {},
   "source": [
    "Теперь посмотрим, когда разные типы пользователей пользуются велопрокатом. Построим гистограммы времени начала поездки."
   ]
  },
  {
   "cell_type": "code",
   "execution_count": 11,
   "metadata": {
    "ExecuteTime": {
     "end_time": "2020-05-22T10:21:32.703528Z",
     "start_time": "2020-05-22T10:21:32.691984Z"
    },
    "code_folding": [
     0
    ]
   },
   "outputs": [],
   "source": [
    "def is_weekend(day):\n",
    "    return day > 4"
   ]
  },
  {
   "cell_type": "code",
   "execution_count": 15,
   "metadata": {
    "ExecuteTime": {
     "end_time": "2020-05-22T10:22:13.711586Z",
     "start_time": "2020-05-22T10:22:13.424290Z"
    }
   },
   "outputs": [],
   "source": [
    "trips['starttime'] = pd.to_datetime(trips['starttime'])\n",
    "trips['stoptime'] = pd.to_datetime(trips['stoptime'])\n",
    "trips['starttime_of_day_hour'] = [hour for hour in trips['starttime'].dt.hour]\n",
    "trips['weekend'] = is_weekend(trips.starttime.dt.weekday)"
   ]
  },
  {
   "cell_type": "code",
   "execution_count": 13,
   "metadata": {
    "ExecuteTime": {
     "end_time": "2020-05-22T10:21:39.337052Z",
     "start_time": "2020-05-22T10:21:38.448953Z"
    }
   },
   "outputs": [
    {
     "data": {
      "image/png": "[encoded data removed]",
      "text/plain": [
       "<Figure size 720x360 with 1 Axes>"
      ]
     },
     "metadata": {
      "needs_background": "light"
     },
     "output_type": "display_data"
    }
   ],
   "source": [
    "plt.figure(figsize=(10, 5))\n",
    "plt.title('Распределение времени начала поездки в зависимости от типа абонемента')\n",
    "plt.hist(trips[trips['usertype'] == 'Member'].starttime_of_day_hour, \n",
    "         bins=50, \n",
    "         label='Member')\n",
    "plt.hist(trips[trips['usertype'] == 'Short-Term Pass Holder'].starttime_of_day_hour, \n",
    "         bins=50,\n",
    "         label='Short-Term Pass Holder', alpha=0.5, color='yellow')\n",
    "plt.legend()\n",
    "plt.show()"
   ]
  },
  {
   "cell_type": "markdown",
   "metadata": {},
   "source": [
    "Посмотрим, когда чаще всего катаются `Member`, `Short-Term Pass Holder`."
   ]
  },
  {
   "cell_type": "code",
   "execution_count": 18,
   "metadata": {
    "ExecuteTime": {
     "end_time": "2020-05-22T10:23:14.039769Z",
     "start_time": "2020-05-22T10:23:13.766451Z"
    }
   },
   "outputs": [
    {
     "data": {
      "image/png": "[encoded data removed]",
      "text/plain": [
       "<Figure size 720x360 with 1 Axes>"
      ]
     },
     "metadata": {
      "needs_background": "light"
     },
     "output_type": "display_data"
    }
   ],
   "source": [
    "plt.figure(figsize=(10, 5))\n",
    "plt.title('Гистограмма распределения поездок по выходным пользователи типа Member')\n",
    "sns.countplot(x='weekend', data=trips[trips['usertype'] == 'Member'])\n",
    "plt.show()"
   ]
  },
  {
   "cell_type": "markdown",
   "metadata": {},
   "source": [
    "Как видим, `Member` чаще катаются в будний день."
   ]
  },
  {
   "cell_type": "code",
   "execution_count": 20,
   "metadata": {
    "ExecuteTime": {
     "end_time": "2020-05-22T10:24:25.614106Z",
     "start_time": "2020-05-22T10:24:25.354113Z"
    }
   },
   "outputs": [
    {
     "data": {
      "image/png": "[encoded data removed]",
      "text/plain": [
       "<Figure size 720x360 with 1 Axes>"
      ]
     },
     "metadata": {
      "needs_background": "light"
     },
     "output_type": "display_data"
    }
   ],
   "source": [
    "plt.figure(figsize=(10, 5))\n",
    "plt.title('Гистограмма распределения поездок по выходным, пользователь Short-Term Pass Holder')\n",
    "sns.countplot(x='weekend', data=trips[trips['usertype'] != 'Member'])\n",
    "plt.show()"
   ]
  },
  {
   "cell_type": "markdown",
   "metadata": {
    "ExecuteTime": {
     "end_time": "2020-05-22T10:25:48.826204Z",
     "start_time": "2020-05-22T10:25:48.781924Z"
    }
   },
   "source": [
    "А вот `Short-Term Pass Holder`-пользователи велопрокатата на выходных пользуютя уже чаще."
   ]
  },
  {
   "cell_type": "markdown",
   "metadata": {
    "ExecuteTime": {
     "end_time": "2020-05-09T15:50:39.995181Z",
     "start_time": "2020-05-09T15:50:39.984583Z"
    }
   },
   "source": [
    "Посмотрим на распределение пользователей типа `Member` в зависимости от пола."
   ]
  },
  {
   "cell_type": "code",
   "execution_count": 46,
   "metadata": {
    "ExecuteTime": {
     "end_time": "2020-04-26T20:00:42.642356Z",
     "start_time": "2020-04-26T20:00:41.654273Z"
    }
   },
   "outputs": [
    {
     "data": {
      "image/png": "[encoded data removed]",
      "text/plain": [
       "<Figure size 720x360 with 1 Axes>"
      ]
     },
     "metadata": {
      "needs_background": "light"
     },
     "output_type": "display_data"
    }
   ],
   "source": [
    "plt.figure(figsize=(10, 5))\n",
    "plt.title('Гистограмма распределения по полу пользователей типа Member')\n",
    "sns.countplot(x='gender', data=trips[trips['usertype'] == 'Member'])\n",
    "plt.show()"
   ]
  },
  {
   "cell_type": "markdown",
   "metadata": {},
   "source": [
    "При этом важно заметить, что пол пользователя для `Short-Term Pass Holder` подписки не определен, поэтому исследования на эту темы не возможны."
   ]
  },
  {
   "cell_type": "code",
   "execution_count": 14,
   "metadata": {
    "ExecuteTime": {
     "end_time": "2020-05-20T21:16:33.658079Z",
     "start_time": "2020-05-20T21:16:33.567339Z"
    }
   },
   "outputs": [
    {
     "data": {
      "text/plain": [
       "69        NaN\n",
       "78        NaN\n",
       "89        NaN\n",
       "91        NaN\n",
       "92        NaN\n",
       "         ... \n",
       "286852    NaN\n",
       "286853    NaN\n",
       "286854    NaN\n",
       "286855    NaN\n",
       "286856    NaN\n",
       "Name: gender, Length: 89894, dtype: object"
      ]
     },
     "execution_count": 14,
     "metadata": {},
     "output_type": "execute_result"
    }
   ],
   "source": [
    "trips[trips.usertype != 'Member'].gender"
   ]
  },
  {
   "cell_type": "markdown",
   "metadata": {},
   "source": [
    "**Выводы:**\n",
    "* Как видим, разные пользователи по-разному используют велопрокат. Так, пользователи типа `Member` катаются чаще и преимущественно небольшое время, при этом большая часть поездок приходится в начало (8 утра) и коец рабочего дня(17-18 вечера), а вот для `Short-Term Pass Holder` более характерны продолжительные поездки, о чем говорит  и значение средних величин, при чем совершаются они преимущественно днем, в период с 10 до 19 часов. Пользователя типа `Member` также очень редко катаются в выходные, чего нельзя сказать о `Short-Term Pass Holder`.\n"
   ]
  }
 ],
 "metadata": {
  "kernelspec": {
   "display_name": "Python [conda env:mipt-stats] *",
   "language": "python",
   "name": "conda-env-mipt-stats-py"
  },
  "language_info": {
   "codemirror_mode": {
    "name": "ipython",
    "version": 3
   },
   "file_extension": ".py",
   "mimetype": "text/x-python",
   "name": "python",
   "nbconvert_exporter": "python",
   "pygments_lexer": "ipython3",
   "version": "3.7.6"
  },
  "varInspector": {
   "cols": {
    "lenName": 16,
    "lenType": 16,
    "lenVar": 40
   },
   "kernels_config": {
    "python": {
     "delete_cmd_postfix": "",
     "delete_cmd_prefix": "del ",
     "library": "var_list.py",
     "varRefreshCmd": "print(var_dic_list())"
    },
    "r": {
     "delete_cmd_postfix": ") ",
     "delete_cmd_prefix": "rm(",
     "library": "var_list.r",
     "varRefreshCmd": "cat(var_dic_list()) "
    }
   },
   "types_to_exclude": [
    "module",
    "function",
    "builtin_function_or_method",
    "instance",
    "_Feature"
   ],
   "window_display": false
  }
 },
 "nbformat": 4,
 "nbformat_minor": 2
}
